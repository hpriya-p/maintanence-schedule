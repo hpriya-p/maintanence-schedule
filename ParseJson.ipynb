{
 "cells": [
  {
   "cell_type": "code",
   "execution_count": 1,
   "metadata": {},
   "outputs": [
    {
     "data": {
      "text/plain": [
       "1.0e20"
      ]
     },
     "execution_count": 1,
     "metadata": {},
     "output_type": "execute_result"
    }
   ],
   "source": [
    "using JSON\n",
    "using JuMP, MathOptInterface, Cbc\n",
    "const MOI = MathOptInterface\n",
    "\n",
    "const ztol = 1e-6\n",
    "const inf = 1e20"
   ]
  },
  {
   "cell_type": "code",
   "execution_count": 2,
   "metadata": {},
   "outputs": [
    {
     "data": {
      "text/plain": [
       "\"Alpha\""
      ]
     },
     "execution_count": 2,
     "metadata": {},
     "output_type": "execute_result"
    }
   ],
   "source": [
    "INTERVENTIONS = \"Interventions\"\n",
    "NUM_SCENARIO= \"Scenarios_number\"\n",
    "RESOURCES = \"Resources\"\n",
    "SEASONS = \"Seasons\"\n",
    "EXCLUSIONS = \"Exclusions\"\n",
    "QUANTILE = \"Quantile\"\n",
    "ALPHA = \"Alpha\""
   ]
  },
  {
   "cell_type": "code",
   "execution_count": 3,
   "metadata": {},
   "outputs": [
    {
     "data": {
      "text/plain": [
       "Base.KeySet for a Dict{String,Any} with 8 entries. Keys:\n",
       "  \"Seasons\"\n",
       "  \"Quantile\"\n",
       "  \"T\"\n",
       "  \"Interventions\"\n",
       "  \"Exclusions\"\n",
       "  \"Resources\"\n",
       "  \"Scenarios_number\"\n",
       "  \"Alpha\""
      ]
     },
     "execution_count": 3,
     "metadata": {},
     "output_type": "execute_result"
    }
   ],
   "source": [
    "parsed_file = JSON.parsefile(\"example2.json\")\n",
    "keys(parsed_file)"
   ]
  },
  {
   "cell_type": "code",
   "execution_count": 4,
   "metadata": {},
   "outputs": [
    {
     "data": {
      "text/plain": [
       "Dict{String,Any} with 1 entry:\n",
       "  \"E1\" => Any[\"I2\", \"I3\", \"full\"]"
      ]
     },
     "execution_count": 4,
     "metadata": {},
     "output_type": "execute_result"
    }
   ],
   "source": [
    "get(parsed_file, EXCLUSIONS, [])"
   ]
  },
  {
   "cell_type": "code",
   "execution_count": 5,
   "metadata": {},
   "outputs": [
    {
     "data": {
      "text/plain": [
       "Dict{String,Any} with 4 entries:\n",
       "  \"tmax\"     => 3\n",
       "  \"risk\"     => Dict{String,Any}(\"1\"=>Dict{String,Any}(\"1\"=>Any[8],\"2\"=>Any[0],…\n",
       "  \"Delta\"    => Any[1, 1, 1]\n",
       "  \"workload\" => Dict{String,Any}(\"c1\"=>Dict{String,Any}(\"1\"=>Dict{String,Any}(\"…"
      ]
     },
     "execution_count": 5,
     "metadata": {},
     "output_type": "execute_result"
    }
   ],
   "source": [
    "get(get(parsed_file, INTERVENTIONS, []), \"I2\", [])"
   ]
  },
  {
   "cell_type": "code",
   "execution_count": 6,
   "metadata": {},
   "outputs": [
    {
     "data": {
      "text/plain": [
       "Dict{String,Any} with 4 entries:\n",
       "  \"tmax\"     => 2\n",
       "  \"risk\"     => Dict{String,Any}(\"1\"=>Dict{String,Any}(\"1\"=>Any[2],\"2\"=>Any[0])…\n",
       "  \"Delta\"    => Any[1, 1, 2]\n",
       "  \"workload\" => Dict{String,Any}(\"c1\"=>Dict{String,Any}(\"1\"=>Dict{String,Any}(\"…"
      ]
     },
     "execution_count": 6,
     "metadata": {},
     "output_type": "execute_result"
    }
   ],
   "source": [
    "get(get(parsed_file, INTERVENTIONS, []), \"I3\", [])"
   ]
  },
  {
   "cell_type": "code",
   "execution_count": 7,
   "metadata": {},
   "outputs": [
    {
     "data": {
      "text/plain": [
       "0.5"
      ]
     },
     "execution_count": 7,
     "metadata": {},
     "output_type": "execute_result"
    }
   ],
   "source": [
    "#Constants\n",
    "n = length(keys(get(parsed_file, INTERVENTIONS, [])))\n",
    "C = length(keys(get(parsed_file, RESOURCES, [])))\n",
    "T = get(parsed_file, \"T\", 0)\n",
    "St = get(parsed_file, NUM_SCENARIO, 0)\n",
    "S = max(St...)\n",
    "tau = get(parsed_file, QUANTILE, 0)\n",
    "alpha = get(parsed_file, ALPHA, 0)"
   ]
  },
  {
   "cell_type": "code",
   "execution_count": 8,
   "metadata": {},
   "outputs": [
    {
     "name": "stdout",
     "output_type": "stream",
     "text": [
      "21.0\n",
      "[7.0 4.0 2.0; 8.0 0.0 0.0; 2.0 0.0 0.0]\n",
      "\n",
      "[0.0 0.0 0.0; 0.0 5.0 0.0; 0.0 6.0 0.0]\n",
      "\n",
      "[0.0 0.0 0.0; 0.0 0.0 6.0; 0.0 0.0 0.0]\n",
      "\n",
      "[0.0 0.0 20.0; 0.0 0.0 0.0; 0.0 0.0 0.0]\n",
      "\n",
      "[0.0 0.0 0.0; 0.0 0.0 0.0; 0.0 0.0 0.0]\n",
      "\n",
      "[0.0 0.0 0.0; 0.0 0.0 8.0; 0.0 0.0 0.0]"
     ]
    }
   ],
   "source": [
    "risk_arr = zeros(n, T, T, S) #(intervention, current time, start time, scenario)\n",
    "#Populate risk_arr\n",
    "for (intervention, int_values) in pairs(get(parsed_file, INTERVENTIONS, []))\n",
    "    for (curtime, ctime_values) in pairs(get(int_values, \"risk\", []))\n",
    "        for (start_time, stime_values) in pairs(ctime_values)\n",
    "            for s in 1:getindex(St, parse(Int64, curtime))\n",
    "                setindex!(risk_arr, stime_values[s], parse(Int64, SubString(intervention, 2)), parse(Int64, curtime), parse(Int64, start_time), s)\n",
    "            end\n",
    "        end\n",
    "    end\n",
    "end\n",
    "M = max(risk_arr...) + 1\n",
    "println(M)\n",
    "print(risk_arr)"
   ]
  },
  {
   "cell_type": "code",
   "execution_count": 9,
   "metadata": {
    "scrolled": false
   },
   "outputs": [
    {
     "name": "stdout",
     "output_type": "stream",
     "text": [
      "31\n",
      "0\n",
      "8\n",
      "14\n",
      "0\n",
      "0\n",
      "0\n",
      "14\n",
      "0\n",
      "0\n",
      "0\n",
      "14\n",
      "5\n",
      "0\n",
      "0\n",
      "5\n",
      "0\n",
      "0\n"
     ]
    }
   ],
   "source": [
    "r_arr = zeros(n, T, T, C) #(intervention, current time, start time, resource)\n",
    "#Populate r_arr\n",
    "for (intervention, int_values) in pairs(get(parsed_file, INTERVENTIONS, []))\n",
    "    for (resource, resource_values) in pairs(get(int_values, \"workload\", []))\n",
    "        for (curr_time, curr_time_values) in pairs(resource_values)\n",
    "            for (start_time, start_time_load) in pairs(curr_time_values)\n",
    "                println(start_time_load)\n",
    "                setindex!(r_arr, start_time_load, parse(Int64, SubString(intervention, 2)), parse(Int64, curr_time), parse(Int64, start_time), parse(Int64, SubString(resource, 2)))\n",
    "            end\n",
    "        end\n",
    "    end\n",
    "end"
   ]
  },
  {
   "cell_type": "code",
   "execution_count": 10,
   "metadata": {},
   "outputs": [
    {
     "name": "stdout",
     "output_type": "stream",
     "text": [
      "[49.0 23.0 15.0]"
     ]
    }
   ],
   "source": [
    "u = zeros(C, T)\n",
    "for (res, res_values) in pairs(get(parsed_file, RESOURCES, []))\n",
    "    setindex!(u, get(res_values, \"max\", []), parse(Int64, SubString(res, 2)), 1:T)\n",
    "end\n",
    "print(u)"
   ]
  },
  {
   "cell_type": "code",
   "execution_count": 11,
   "metadata": {},
   "outputs": [
    {
     "name": "stdout",
     "output_type": "stream",
     "text": [
      "[10.0 0.0 6.0]"
     ]
    }
   ],
   "source": [
    "l = zeros(C, T)\n",
    "for (res, res_values) in pairs(get(parsed_file, RESOURCES, []))\n",
    "    setindex!(l, get(res_values, \"min\", []), parse(Int64, SubString(res, 2)), 1:T)\n",
    "end\n",
    "print(l)"
   ]
  },
  {
   "cell_type": "code",
   "execution_count": 12,
   "metadata": {},
   "outputs": [
    {
     "name": "stdout",
     "output_type": "stream",
     "text": [
      "[3.0 3.0 2.0; 1.0 1.0 1.0; 1.0 1.0 2.0]"
     ]
    }
   ],
   "source": [
    "deltas = zeros(n, T)\n",
    "for (intervention, int_values) in pairs(get(parsed_file, INTERVENTIONS, []))\n",
    "    setindex!(deltas, get(int_values, \"Delta\", []), parse(Int64, SubString(intervention, 2)), 1:T)\n",
    "end\n",
    "print(deltas)"
   ]
  },
  {
   "cell_type": "code",
   "execution_count": 13,
   "metadata": {},
   "outputs": [
    {
     "data": {
      "text/plain": [
       "3×3×3×1 Array{Float64,4}:\n",
       "[:, :, 1, 1] =\n",
       " 31.0  0.0  8.0\n",
       " 14.0  0.0  0.0\n",
       "  5.0  0.0  0.0\n",
       "\n",
       "[:, :, 2, 1] =\n",
       " 0.0   0.0  0.0\n",
       " 0.0  14.0  0.0\n",
       " 0.0   5.0  0.0\n",
       "\n",
       "[:, :, 3, 1] =\n",
       " 0.0  0.0   0.0\n",
       " 0.0  0.0  14.0\n",
       " 0.0  0.0   0.0"
      ]
     },
     "execution_count": 13,
     "metadata": {},
     "output_type": "execute_result"
    }
   ],
   "source": [
    "r_arr"
   ]
  },
  {
   "cell_type": "code",
   "execution_count": 14,
   "metadata": {},
   "outputs": [
    {
     "data": {
      "text/plain": [
       "3-element Array{ConstraintRef{Model,MathOptInterface.ConstraintIndex{MathOptInterface.ScalarAffineFunction{Float64},MathOptInterface.GreaterThan{Float64}},ScalarShape},1}:\n",
       " t[1] ≥ 0.0\n",
       " t[2] ≥ 0.0\n",
       " t[3] ≥ 0.0"
      ]
     },
     "execution_count": 14,
     "metadata": {},
     "output_type": "execute_result"
    }
   ],
   "source": [
    "#Construct JuMP Model \n",
    "j_model = Model()\n",
    "t[1:n] = @variable(j_model, t[1:n], Int)\n",
    "d[1:n] = @variable(j_model, d[1:n], Int)\n",
    "y[1:n, 1:T] = @variable(j_model, y[1:n, 1:T], Bin)\n",
    "z1[1:n, 1:T] = @variable(j_model, z1[1:n, 1:T], Bin)\n",
    "z2[1:n, 1:T] = @variable(j_model, z2[1:n, 1:T], Bin)\n",
    "a[1:n, 1:T] = @variable(j_model, a[1:n, 1:T], Bin)\n",
    "c[1:n, 1:T, 1:T] = @variable(j_model, c[1:n, 1:T, 1:T], Bin) #of the form c[intervention, current time, start time]\n",
    "risk[1:S, 1:T] = @variable(j_model, risk[1:S, 1:T])\n",
    "w[1:S, 1:T] = @variable(j_model, w[1:S, 1:T], Bin)\n",
    "q[1:T] = @variable(j_model, q[1:T])\n",
    "e[1:T] = @variable(j_model, e[1:T])\n",
    "mean_risk_t = [sum(risk[s, t1] for s in 1:getindex(St, t1))/getindex(St, t1) for t1 in 1:T]\n",
    "mean_risk = sum(getindex(mean_risk_t, t1) for t1 in 1:T)/T\n",
    "quant_risk = [q[t1] - getindex(mean_risk_t, t1) for t1 in 1:T]\n",
    "\n",
    "constr1 = [@constraint(j_model, t[i] >= time*y[i,time]) for i in 1:n for time in 1:T]\n",
    "constr2 = [@constraint(j_model, t[i] <= time + T*(1-y[i, time])) for i in 1:n for time in 1:T]\n",
    "constr3a = [@constraint(j_model, z1[i, t1] <= sum(y[i, j] for j in 1:t1) + ztol)  for i in 1:n for t1 in 1:T]\n",
    "constr3b = [@constraint(j_model, z1[i, t1] >= sum(y[i, j] for j in 1:t1) - ztol)  for i in 1:n for t1 in 1:T]\n",
    "constr4 = [@constraint(j_model, d[i] >= t1*z2[i, t1]) for i in 1:n for t1 in 1:T]\n",
    "constr5 = [@constraint(j_model, d[i] <= t1 + (T+1)*z2[i, t1]) for i in 1:n for t1 in 1:T]\n",
    "constr6 = [@constraint(j_model, a[i, t1] >= z1[i, t1] + z2[i, t1] - 1) for i in 1:n for t1 in 1:T]\n",
    "constr7 = [@constraint(j_model, a[i, t1] <= z1[i, t1]) for i in 1:n for t1 in 1:T]\n",
    "constr8 = [@constraint(j_model, a[i, t1] <= z2[i, t1]) for i in 1:n for t1 in 1:T]                        \n",
    "constr9 = [@constraint(j_model, c[i, time1, time2] >= y[i, time2] + a[i, time1] - 1) for i in 1:n for time1 in 1:T for time2 in 1:T]\n",
    "constr10 = [@constraint(j_model, c[i, time1, time2] <= y[i, time2]) for i in 1:n for time1 in 1:T for time2 in 1:T]\n",
    "constr11 = [@constraint(j_model, c[i, time1, time2] <= a[i, time1]) for i in 1:n for time1 in 1:T for time2 in 1:T]\n",
    "constr12 = [@constraint(j_model, d[i] <= time + deltas[i, time] + T * (1 - y[i, time])) for i in 1:n for time in 1:T]\n",
    "constr13 = [@constraint(j_model, d[i] >= time + deltas[i, time] - T*(1 - y[i, time])) for i in 1:n for time in 1:T]\n",
    "constr14 = [@constraint(j_model, risk[s, t1] == sum(getindex(risk_arr, i, t1, t2, s) * c[i, t1, t2] for i in 1:n for t2 in 1:T)) for t1 in 1:T for s in 1:S]\n",
    "constr15 = [@constraint(j_model, q[t1] >= risk[s, t1] - M * (1 - w[s, t1])) for s in 1:S for t1 in 1:T]\n",
    "constr16 = [@constraint(j_model, q[t1] >= 0) for t1 in 1:T]\n",
    "constr17 = [@constraint(j_model, e[t1] >= 0) for t1 in 1:T]\n",
    "constr18 = [@constraint(j_model, e[t1] >= getindex(quant_risk, t1)) for t1 in 1:T]                                                                                                            \n",
    "constr17 = [@constraint(j_model, d[i] <= T+ 1) for i in 1:n] \n",
    "constr18 = [@constraint(j_model, d[i] >= 0) for i in 1:n] \n",
    "constr19 = [@constraint(j_model, sum(y[i, time] for time in 1:T) == 1) for i in 1:n]\n",
    "constr20 = [@constraint(j_model, sum(getindex(r_arr, i, t1, t2, cj) * c[i, t1, t2] for i in 1:n for t2 in 1:T) >= l[cj, t1])  for t1 in 1:T for cj in 1:C]\n",
    "constr21 = [@constraint(j_model, sum(getindex(r_arr, i, t1, t2, cj) * c[i, t1, t2] for i in 1:n for t2 in 1:T) <= u[cj, t1])  for t1 in 1:T for cj in 1:C]\n",
    "constr23 = [@constraint(j_model, sum(w[s, t1] for s in 1:getindex(St, t1)) >= tau*getindex(St, t1)) for t1 in 1:T]                                                    \n",
    "constr24 = [@constraint(j_model, t[i] <= T) for i in 1:n]\n",
    "constr25 = [@constraint(j_model, t[i] >= 0) for i in 1:n]"
   ]
  },
  {
   "cell_type": "code",
   "execution_count": 15,
   "metadata": {},
   "outputs": [
    {
     "data": {
      "text/plain": [
       "3-element Array{ConstraintRef{Model,MathOptInterface.ConstraintIndex{MathOptInterface.ScalarAffineFunction{Float64},MathOptInterface.GreaterThan{Float64}},ScalarShape},1}:\n",
       " 31 c[1,1,1] + 14 c[2,1,1] + 5 c[3,1,1] ≥ 10.0\n",
       " 14 c[2,2,2] + 5 c[3,2,2] ≥ 0.0               \n",
       " 8 c[1,3,1] + 14 c[2,3,3] ≥ 6.0               "
      ]
     },
     "execution_count": 15,
     "metadata": {},
     "output_type": "execute_result"
    }
   ],
   "source": [
    "constr20"
   ]
  },
  {
   "cell_type": "code",
   "execution_count": 16,
   "metadata": {},
   "outputs": [],
   "source": [
    "#Constraint 22\n",
    "for (exc, exc_values) in pairs(get(parsed_file, EXCLUSIONS, []))\n",
    "    i1 = parse(Int64, SubString(getindex(exc_values, 1), 2))\n",
    "    i2 = parse(Int64, SubString(getindex(exc_values, 2), 2))    \n",
    "    season = getindex(exc_values, 3)\n",
    "    season_vals = get(get(parsed_file, SEASONS, []), season, [])\n",
    "    [@constraint(j_model, a[i1, time] + a[i2, time] <= 1) for time in season_vals]\n",
    "end"
   ]
  },
  {
   "cell_type": "code",
   "execution_count": 17,
   "metadata": {
    "scrolled": false
   },
   "outputs": [
    {
     "name": "stdout",
     "output_type": "stream",
     "text": [
      "Min 0.16666666666666666 risk[1,1] + 0.16666666666666666 risk[1,2] + 0.08333333333333333 risk[1,3] + 0.08333333333333333 risk[2,3] + 0.16666666666666666 e[1] + 0.16666666666666666 e[2] + 0.16666666666666666 e[3]\n",
      "Subject to\n",
      " risk[1,1] - 7 c[1,1,1] - 8 c[2,1,1] - 2 c[3,1,1] = 0.0\n",
      " risk[2,1] = 0.0\n",
      " risk[1,2] - 4 c[1,2,1] - 5 c[2,2,2] - 6 c[3,2,2] = 0.0\n",
      " risk[2,2] = 0.0\n",
      " risk[1,3] - 2 c[1,3,1] - 6 c[2,3,3] = 0.0\n",
      " risk[2,3] - 20 c[1,3,1] - 8 c[2,3,3] = 0.0\n",
      " y[1,1] + y[1,2] + y[1,3] = 1.0\n",
      " y[2,1] + y[2,2] + y[2,3] = 1.0\n",
      " y[3,1] + y[3,2] + y[3,3] = 1.0\n",
      " t[1] - y[1,1] ≥ 0.0\n",
      " t[1] - 2 y[1,2] ≥ 0.0\n",
      " t[1] - 3 y[1,3] ≥ 0.0\n",
      " t[2] - y[2,1] ≥ 0.0\n",
      " t[2] - 2 y[2,2] ≥ 0.0\n",
      " t[2] - 3 y[2,3] ≥ 0.0\n",
      " t[3] - y[3,1] ≥ 0.0\n",
      " t[3] - 2 y[3,2] ≥ 0.0\n",
      " t[3] - 3 y[3,3] ≥ 0.0\n",
      " z1[1,1] - y[1,1] ≥ -1.0e-6\n",
      " z1[1,2] - y[1,1] - y[1,2] ≥ -1.0e-6\n",
      " z1[1,3] - y[1,1] - y[1,2] - y[1,3] ≥ -1.0e-6\n",
      " z1[2,1] - y[2,1] ≥ -1.0e-6\n",
      " z1[2,2] - y[2,1] - y[2,2] ≥ -1.0e-6\n",
      " z1[2,3] - y[2,1] - y[2,2] - y[2,3] ≥ -1.0e-6\n",
      " z1[3,1] - y[3,1] ≥ -1.0e-6\n",
      " z1[3,2] - y[3,1] - y[3,2] ≥ -1.0e-6\n",
      " z1[3,3] - y[3,1] - y[3,2] - y[3,3] ≥ -1.0e-6\n",
      " d[1] - z2[1,1] ≥ 0.0\n",
      " d[1] - 2 z2[1,2] ≥ 0.0\n",
      " d[1] - 3 z2[1,3] ≥ 0.0\n",
      " d[2] - z2[2,1] ≥ 0.0\n",
      " d[2] - 2 z2[2,2] ≥ 0.0\n",
      " d[2] - 3 z2[2,3] ≥ 0.0\n",
      " d[3] - z2[3,1] ≥ 0.0\n",
      " d[3] - 2 z2[3,2] ≥ 0.0\n",
      " d[3] - 3 z2[3,3] ≥ 0.0\n",
      " a[1,1] - z1[1,1] - z2[1,1] ≥ -1.0\n",
      " a[1,2] - z1[1,2] - z2[1,2] ≥ -1.0\n",
      " a[1,3] - z1[1,3] - z2[1,3] ≥ -1.0\n",
      " a[2,1] - z1[2,1] - z2[2,1] ≥ -1.0\n",
      " a[2,2] - z1[2,2] - z2[2,2] ≥ -1.0\n",
      " a[2,3] - z1[2,3] - z2[2,3] ≥ -1.0\n",
      " a[3,1] - z1[3,1] - z2[3,1] ≥ -1.0\n",
      " a[3,2] - z1[3,2] - z2[3,2] ≥ -1.0\n",
      " a[3,3] - z1[3,3] - z2[3,3] ≥ -1.0\n",
      " c[1,1,1] - y[1,1] - a[1,1] ≥ -1.0\n",
      " c[1,1,2] - y[1,2] - a[1,1] ≥ -1.0\n",
      " c[1,1,3] - y[1,3] - a[1,1] ≥ -1.0\n",
      " c[1,2,1] - y[1,1] - a[1,2] ≥ -1.0\n",
      " c[1,2,2] - y[1,2] - a[1,2] ≥ -1.0\n",
      " c[1,2,3] - y[1,3] - a[1,2] ≥ -1.0\n",
      " c[1,3,1] - y[1,1] - a[1,3] ≥ -1.0\n",
      " c[1,3,2] - y[1,2] - a[1,3] ≥ -1.0\n",
      " c[1,3,3] - y[1,3] - a[1,3] ≥ -1.0\n",
      " c[2,1,1] - y[2,1] - a[2,1] ≥ -1.0\n",
      " c[2,1,2] - y[2,2] - a[2,1] ≥ -1.0\n",
      " c[2,1,3] - y[2,3] - a[2,1] ≥ -1.0\n",
      " c[2,2,1] - y[2,1] - a[2,2] ≥ -1.0\n",
      " c[2,2,2] - y[2,2] - a[2,2] ≥ -1.0\n",
      " c[2,2,3] - y[2,3] - a[2,2] ≥ -1.0\n",
      " c[2,3,1] - y[2,1] - a[2,3] ≥ -1.0\n",
      " c[2,3,2] - y[2,2] - a[2,3] ≥ -1.0\n",
      " c[2,3,3] - y[2,3] - a[2,3] ≥ -1.0\n",
      " c[3,1,1] - y[3,1] - a[3,1] ≥ -1.0\n",
      " c[3,1,2] - y[3,2] - a[3,1] ≥ -1.0\n",
      " c[3,1,3] - y[3,3] - a[3,1] ≥ -1.0\n",
      " c[3,2,1] - y[3,1] - a[3,2] ≥ -1.0\n",
      " c[3,2,2] - y[3,2] - a[3,2] ≥ -1.0\n",
      " c[3,2,3] - y[3,3] - a[3,2] ≥ -1.0\n",
      " c[3,3,1] - y[3,1] - a[3,3] ≥ -1.0\n",
      " c[3,3,2] - y[3,2] - a[3,3] ≥ -1.0\n",
      " c[3,3,3] - y[3,3] - a[3,3] ≥ -1.0\n",
      " d[1] - 3 y[1,1] ≥ 1.0\n",
      " d[1] - 3 y[1,2] ≥ 2.0\n",
      " d[1] - 3 y[1,3] ≥ 2.0\n",
      " d[2] - 3 y[2,1] ≥ -1.0\n",
      " d[2] - 3 y[2,2] ≥ 0.0\n",
      " d[2] - 3 y[2,3] ≥ 1.0\n",
      " d[3] - 3 y[3,1] ≥ -1.0\n",
      " d[3] - 3 y[3,2] ≥ 0.0\n",
      " d[3] - 3 y[3,3] ≥ 2.0\n",
      " q[1] - risk[1,1] - 21 w[1,1] ≥ -21.0\n",
      " q[2] - risk[1,2] - 21 w[1,2] ≥ -21.0\n",
      " q[3] - risk[1,3] - 21 w[1,3] ≥ -21.0\n",
      " q[1] - risk[2,1] - 21 w[2,1] ≥ -21.0\n",
      " q[2] - risk[2,2] - 21 w[2,2] ≥ -21.0\n",
      " q[3] - risk[2,3] - 21 w[2,3] ≥ -21.0\n",
      " q[1] ≥ 0.0\n",
      " q[2] ≥ 0.0\n",
      " q[3] ≥ 0.0\n",
      " e[1] ≥ 0.0\n",
      " e[2] ≥ 0.0\n",
      " e[3] ≥ 0.0\n",
      " e[1] - q[1] + risk[1,1] ≥ 0.0\n",
      " e[2] - q[2] + risk[1,2] ≥ 0.0\n",
      " e[3] - q[3] + 0.5 risk[1,3] + 0.5 risk[2,3] ≥ 0.0\n",
      " d[1] ≥ 0.0\n",
      " d[2] ≥ 0.0\n",
      " d[3] ≥ 0.0\n",
      " 31 c[1,1,1] + 14 c[2,1,1] + 5 c[3,1,1] ≥ 10.0\n",
      " 14 c[2,2,2] + 5 c[3,2,2] ≥ 0.0\n",
      " 8 c[1,3,1] + 14 c[2,3,3] ≥ 6.0\n",
      " w[1,1] ≥ 0.5\n",
      " w[1,2] ≥ 0.5\n",
      " w[1,3] + w[2,3] ≥ 1.0\n",
      " t[1] ≥ 0.0\n",
      " t[2] ≥ 0.0\n",
      " t[3] ≥ 0.0\n",
      " t[1] + 3 y[1,1] ≤ 4.0\n",
      " t[1] + 3 y[1,2] ≤ 5.0\n",
      " t[1] + 3 y[1,3] ≤ 6.0\n",
      " t[2] + 3 y[2,1] ≤ 4.0\n",
      " t[2] + 3 y[2,2] ≤ 5.0\n",
      " t[2] + 3 y[2,3] ≤ 6.0\n",
      " t[3] + 3 y[3,1] ≤ 4.0\n",
      " t[3] + 3 y[3,2] ≤ 5.0\n",
      " t[3] + 3 y[3,3] ≤ 6.0\n",
      " z1[1,1] - y[1,1] ≤ 1.0e-6\n",
      " z1[1,2] - y[1,1] - y[1,2] ≤ 1.0e-6\n",
      " z1[1,3] - y[1,1] - y[1,2] - y[1,3] ≤ 1.0e-6\n",
      " z1[2,1] - y[2,1] ≤ 1.0e-6\n",
      " z1[2,2] - y[2,1] - y[2,2] ≤ 1.0e-6\n",
      " z1[2,3] - y[2,1] - y[2,2] - y[2,3] ≤ 1.0e-6\n",
      " z1[3,1] - y[3,1] ≤ 1.0e-6\n",
      " z1[3,2] - y[3,1] - y[3,2] ≤ 1.0e-6\n",
      " z1[3,3] - y[3,1] - y[3,2] - y[3,3] ≤ 1.0e-6\n",
      " d[1] - 4 z2[1,1] ≤ 1.0\n",
      " d[1] - 4 z2[1,2] ≤ 2.0\n",
      " d[1] - 4 z2[1,3] ≤ 3.0\n",
      " d[2] - 4 z2[2,1] ≤ 1.0\n",
      " d[2] - 4 z2[2,2] ≤ 2.0\n",
      " d[2] - 4 z2[2,3] ≤ 3.0\n",
      " d[3] - 4 z2[3,1] ≤ 1.0\n",
      " d[3] - 4 z2[3,2] ≤ 2.0\n",
      " d[3] - 4 z2[3,3] ≤ 3.0\n",
      " a[1,1] - z1[1,1] ≤ 0.0\n",
      " a[1,2] - z1[1,2] ≤ 0.0\n",
      " a[1,3] - z1[1,3] ≤ 0.0\n",
      " a[2,1] - z1[2,1] ≤ 0.0\n",
      " a[2,2] - z1[2,2] ≤ 0.0\n",
      " a[2,3] - z1[2,3] ≤ 0.0\n",
      " a[3,1] - z1[3,1] ≤ 0.0\n",
      " a[3,2] - z1[3,2] ≤ 0.0\n",
      " a[3,3] - z1[3,3] ≤ 0.0\n",
      " a[1,1] - z2[1,1] ≤ 0.0\n",
      " a[1,2] - z2[1,2] ≤ 0.0\n",
      " a[1,3] - z2[1,3] ≤ 0.0\n",
      " a[2,1] - z2[2,1] ≤ 0.0\n",
      " a[2,2] - z2[2,2] ≤ 0.0\n",
      " a[2,3] - z2[2,3] ≤ 0.0\n",
      " a[3,1] - z2[3,1] ≤ 0.0\n",
      " a[3,2] - z2[3,2] ≤ 0.0\n",
      " a[3,3] - z2[3,3] ≤ 0.0\n",
      " c[1,1,1] - y[1,1] ≤ 0.0\n",
      " c[1,1,2] - y[1,2] ≤ 0.0\n",
      " c[1,1,3] - y[1,3] ≤ 0.0\n",
      " c[1,2,1] - y[1,1] ≤ 0.0\n",
      " c[1,2,2] - y[1,2] ≤ 0.0\n",
      " c[1,2,3] - y[1,3] ≤ 0.0\n",
      " c[1,3,1] - y[1,1] ≤ 0.0\n",
      " c[1,3,2] - y[1,2] ≤ 0.0\n",
      " c[1,3,3] - y[1,3] ≤ 0.0\n",
      " c[2,1,1] - y[2,1] ≤ 0.0\n",
      " c[2,1,2] - y[2,2] ≤ 0.0\n",
      " c[2,1,3] - y[2,3] ≤ 0.0\n",
      " c[2,2,1] - y[2,1] ≤ 0.0\n",
      " c[2,2,2] - y[2,2] ≤ 0.0\n",
      " c[2,2,3] - y[2,3] ≤ 0.0\n",
      " c[2,3,1] - y[2,1] ≤ 0.0\n",
      " c[2,3,2] - y[2,2] ≤ 0.0\n",
      " c[2,3,3] - y[2,3] ≤ 0.0\n",
      " c[3,1,1] - y[3,1] ≤ 0.0\n",
      " c[3,1,2] - y[3,2] ≤ 0.0\n",
      " c[3,1,3] - y[3,3] ≤ 0.0\n",
      " c[3,2,1] - y[3,1] ≤ 0.0\n",
      " c[3,2,2] - y[3,2] ≤ 0.0\n",
      " c[3,2,3] - y[3,3] ≤ 0.0\n",
      " c[3,3,1] - y[3,1] ≤ 0.0\n",
      " c[3,3,2] - y[3,2] ≤ 0.0\n",
      " c[3,3,3] - y[3,3] ≤ 0.0\n",
      " c[1,1,1] - a[1,1] ≤ 0.0\n",
      " c[1,1,2] - a[1,1] ≤ 0.0\n",
      " c[1,1,3] - a[1,1] ≤ 0.0\n",
      " c[1,2,1] - a[1,2] ≤ 0.0\n",
      " c[1,2,2] - a[1,2] ≤ 0.0\n",
      " c[1,2,3] - a[1,2] ≤ 0.0\n",
      " c[1,3,1] - a[1,3] ≤ 0.0\n",
      " c[1,3,2] - a[1,3] ≤ 0.0\n",
      " c[1,3,3] - a[1,3] ≤ 0.0\n",
      " c[2,1,1] - a[2,1] ≤ 0.0\n",
      " c[2,1,2] - a[2,1] ≤ 0.0\n",
      " c[2,1,3] - a[2,1] ≤ 0.0\n",
      " c[2,2,1] - a[2,2] ≤ 0.0\n",
      " c[2,2,2] - a[2,2] ≤ 0.0\n",
      " c[2,2,3] - a[2,2] ≤ 0.0\n",
      " c[2,3,1] - a[2,3] ≤ 0.0\n",
      " c[2,3,2] - a[2,3] ≤ 0.0\n",
      " c[2,3,3] - a[2,3] ≤ 0.0\n",
      " c[3,1,1] - a[3,1] ≤ 0.0\n",
      " c[3,1,2] - a[3,1] ≤ 0.0\n",
      " c[3,1,3] - a[3,1] ≤ 0.0\n",
      " c[3,2,1] - a[3,2] ≤ 0.0\n",
      " c[3,2,2] - a[3,2] ≤ 0.0\n",
      " c[3,2,3] - a[3,2] ≤ 0.0\n",
      " c[3,3,1] - a[3,3] ≤ 0.0\n",
      " c[3,3,2] - a[3,3] ≤ 0.0\n",
      " c[3,3,3] - a[3,3] ≤ 0.0\n",
      " d[1] + 3 y[1,1] ≤ 7.0\n",
      " d[1] + 3 y[1,2] ≤ 8.0\n",
      " d[1] + 3 y[1,3] ≤ 8.0\n",
      " d[2] + 3 y[2,1] ≤ 5.0\n",
      " d[2] + 3 y[2,2] ≤ 6.0\n",
      " d[2] + 3 y[2,3] ≤ 7.0\n",
      " d[3] + 3 y[3,1] ≤ 5.0\n",
      " d[3] + 3 y[3,2] ≤ 6.0\n",
      " d[3] + 3 y[3,3] ≤ 8.0\n",
      " d[1] ≤ 4.0\n",
      " d[2] ≤ 4.0\n",
      " d[3] ≤ 4.0\n",
      " 31 c[1,1,1] + 14 c[2,1,1] + 5 c[3,1,1] ≤ 49.0\n",
      " 14 c[2,2,2] + 5 c[3,2,2] ≤ 23.0\n",
      " 8 c[1,3,1] + 14 c[2,3,3] ≤ 15.0\n",
      " t[1] ≤ 3.0\n",
      " t[2] ≤ 3.0\n",
      " t[3] ≤ 3.0\n",
      " a[2,1] + a[3,1] ≤ 1.0\n",
      " a[2,2] + a[3,2] ≤ 1.0\n",
      " a[2,3] + a[3,3] ≤ 1.0\n",
      " t[1] integer\n",
      " t[2] integer\n",
      " t[3] integer\n",
      " d[1] integer\n",
      " d[2] integer\n",
      " d[3] integer\n",
      " y[1,1] binary\n",
      " y[2,1] binary\n",
      " y[3,1] binary\n",
      " y[1,2] binary\n",
      " y[2,2] binary\n",
      " y[3,2] binary\n",
      " y[1,3] binary\n",
      " y[2,3] binary\n",
      " y[3,3] binary\n",
      " z1[1,1] binary\n",
      " z1[2,1] binary\n",
      " z1[3,1] binary\n",
      " z1[1,2] binary\n",
      " z1[2,2] binary\n",
      " z1[3,2] binary\n",
      " z1[1,3] binary\n",
      " z1[2,3] binary\n",
      " z1[3,3] binary\n",
      " z2[1,1] binary\n",
      " z2[2,1] binary\n",
      " z2[3,1] binary\n",
      " z2[1,2] binary\n",
      " z2[2,2] binary\n",
      " z2[3,2] binary\n",
      " z2[1,3] binary\n",
      " z2[2,3] binary\n",
      " z2[3,3] binary\n",
      " a[1,1] binary\n",
      " a[2,1] binary\n",
      " a[3,1] binary\n",
      " a[1,2] binary\n",
      " a[2,2] binary\n",
      " a[3,2] binary\n",
      " a[1,3] binary\n",
      " a[2,3] binary\n",
      " a[3,3] binary\n",
      " c[1,1,1] binary\n",
      " c[2,1,1] binary\n",
      " c[3,1,1] binary\n",
      " c[1,2,1] binary\n",
      " c[2,2,1] binary\n",
      " c[3,2,1] binary\n",
      " c[1,3,1] binary\n",
      " c[2,3,1] binary\n",
      " c[3,3,1] binary\n",
      " c[1,1,2] binary\n",
      " c[2,1,2] binary\n",
      " c[3,1,2] binary\n",
      " c[1,2,2] binary\n",
      " c[2,2,2] binary\n",
      " c[3,2,2] binary\n",
      " c[1,3,2] binary\n",
      " c[2,3,2] binary\n",
      " c[3,3,2] binary\n",
      " c[1,1,3] binary\n",
      " c[2,1,3] binary\n",
      " c[3,1,3] binary\n",
      " c[1,2,3] binary\n",
      " c[2,2,3] binary\n",
      " c[3,2,3] binary\n",
      " c[1,3,3] binary\n",
      " c[2,3,3] binary\n",
      " c[3,3,3] binary\n",
      " w[1,1] binary\n",
      " w[2,1] binary\n",
      " w[1,2] binary\n",
      " w[2,2] binary\n",
      " w[1,3] binary\n",
      " w[2,3] binary\n"
     ]
    }
   ],
   "source": [
    "@objective(j_model, Min, alpha * mean_risk + (1 - alpha) * sum(e[t1] for t1 in 1:T)/T)\n",
    "print(j_model)"
   ]
  },
  {
   "cell_type": "code",
   "execution_count": 18,
   "metadata": {},
   "outputs": [
    {
     "name": "stdout",
     "output_type": "stream",
     "text": [
      "Welcome to the CBC MILP Solver \n",
      "Version: 2.10.3 \n",
      "Build Date: Oct  7 2019 \n",
      "\n",
      "command line - Cbc_C_Interface -solve -quit (default strategy 1)\n",
      "Continuous objective value is 0.876344 - 0.00 seconds\n",
      "Cgl0003I 12 fixed, 5 tightened bounds, 40 strengthened rows, 39 substitutions\n",
      "Cgl0003I 0 fixed, 0 tightened bounds, 3 strengthened rows, 115 substitutions\n",
      "Cgl0004I processed model has 0 rows, 0 columns (0 integer (0 of which binary)) and 0 elements\n",
      "Cbc3007W No integer variables - nothing to do\n",
      "Cuts at root node changed objective from 4.83333 to -1.79769e+308\n",
      "Probing was tried 0 times and created 0 cuts of which 0 were active after adding rounds of cuts (0.000 seconds)\n",
      "Gomory was tried 0 times and created 0 cuts of which 0 were active after adding rounds of cuts (0.000 seconds)\n",
      "Knapsack was tried 0 times and created 0 cuts of which 0 were active after adding rounds of cuts (0.000 seconds)\n",
      "Clique was tried 0 times and created 0 cuts of which 0 were active after adding rounds of cuts (0.000 seconds)\n",
      "MixedIntegerRounding2 was tried 0 times and created 0 cuts of which 0 were active after adding rounds of cuts (0.000 seconds)\n",
      "FlowCover was tried 0 times and created 0 cuts of which 0 were active after adding rounds of cuts (0.000 seconds)\n",
      "TwoMirCuts was tried 0 times and created 0 cuts of which 0 were active after adding rounds of cuts (0.000 seconds)\n",
      "ZeroHalf was tried 0 times and created 0 cuts of which 0 were active after adding rounds of cuts (0.000 seconds)\n",
      "\n",
      "Result - Optimal solution found\n",
      "\n",
      "Objective value:                4.83333333\n",
      "Enumerated nodes:               0\n",
      "Total iterations:               14\n",
      "Time (CPU seconds):             0.01\n",
      "Time (Wallclock seconds):       0.01\n",
      "\n",
      "Total time (CPU seconds):       0.01   (Wallclock seconds):       0.01\n",
      "\n"
     ]
    }
   ],
   "source": [
    "set_optimizer(j_model, Cbc.Optimizer)\n",
    "optimize!(j_model)"
   ]
  },
  {
   "cell_type": "code",
   "execution_count": 19,
   "metadata": {},
   "outputs": [
    {
     "data": {
      "text/plain": [
       "3-element Array{Float64,1}:\n",
       " 8.999999999999998\n",
       " 9.0              \n",
       " 2.0              "
      ]
     },
     "execution_count": 19,
     "metadata": {},
     "output_type": "execute_result"
    }
   ],
   "source": [
    "value.(q)"
   ]
  },
  {
   "cell_type": "code",
   "execution_count": 20,
   "metadata": {},
   "outputs": [
    {
     "data": {
      "text/plain": [
       "2-element Array{Float64,1}:\n",
       "  2.0              \n",
       " 19.999999999999996"
      ]
     },
     "execution_count": 20,
     "metadata": {},
     "output_type": "execute_result"
    }
   ],
   "source": [
    "value.(risk[1:S, 3])"
   ]
  },
  {
   "cell_type": "code",
   "execution_count": 21,
   "metadata": {},
   "outputs": [
    {
     "data": {
      "text/plain": [
       "2-element Array{Float64,1}:\n",
       " 1.0\n",
       " 0.0"
      ]
     },
     "execution_count": 21,
     "metadata": {},
     "output_type": "execute_result"
    }
   ],
   "source": [
    "value.(w[1:S, 1])"
   ]
  },
  {
   "cell_type": "code",
   "execution_count": 22,
   "metadata": {},
   "outputs": [
    {
     "data": {
      "text/plain": [
       "3×3 Array{Float64,2}:\n",
       " 1.0  0.0  0.0\n",
       " 0.0  1.0  0.0\n",
       " 1.0  0.0  0.0"
      ]
     },
     "execution_count": 22,
     "metadata": {},
     "output_type": "execute_result"
    }
   ],
   "source": [
    "value.(y)"
   ]
  },
  {
   "cell_type": "code",
   "execution_count": 23,
   "metadata": {},
   "outputs": [
    {
     "data": {
      "text/plain": [
       "3-element Array{Float64,1}:\n",
       " 1.0\n",
       " 2.0\n",
       " 1.0"
      ]
     },
     "execution_count": 23,
     "metadata": {},
     "output_type": "execute_result"
    }
   ],
   "source": [
    "value.(t)"
   ]
  },
  {
   "cell_type": "code",
   "execution_count": 24,
   "metadata": {},
   "outputs": [
    {
     "data": {
      "text/plain": [
       "3×3 Array{Float64,2}:\n",
       " 1.0  0.0  0.0\n",
       " 1.0  0.0  0.0\n",
       " 1.0  0.0  0.0"
      ]
     },
     "execution_count": 24,
     "metadata": {},
     "output_type": "execute_result"
    }
   ],
   "source": [
    "value.(c[1, 1:3, 1:3])"
   ]
  },
  {
   "cell_type": "code",
   "execution_count": 25,
   "metadata": {},
   "outputs": [
    {
     "data": {
      "text/plain": [
       "3-element Array{Float64,1}:\n",
       " 0.0\n",
       " 1.0\n",
       " 0.0"
      ]
     },
     "execution_count": 25,
     "metadata": {},
     "output_type": "execute_result"
    }
   ],
   "source": [
    "value.(a[2, 1:3])"
   ]
  },
  {
   "cell_type": "code",
   "execution_count": 26,
   "metadata": {},
   "outputs": [
    {
     "data": {
      "text/plain": [
       "3-element Array{Float64,1}:\n",
       " 1.0\n",
       " 1.0\n",
       " 1.0"
      ]
     },
     "execution_count": 26,
     "metadata": {},
     "output_type": "execute_result"
    }
   ],
   "source": [
    "value.(z1[1, 1:3])"
   ]
  },
  {
   "cell_type": "code",
   "execution_count": 27,
   "metadata": {},
   "outputs": [
    {
     "data": {
      "text/plain": [
       "3-element Array{Float64,1}:\n",
       " 1.0\n",
       " 1.0\n",
       " 1.0"
      ]
     },
     "execution_count": 27,
     "metadata": {},
     "output_type": "execute_result"
    }
   ],
   "source": [
    "value.(z2[1, 1:3])"
   ]
  },
  {
   "cell_type": "code",
   "execution_count": 28,
   "metadata": {},
   "outputs": [
    {
     "data": {
      "text/plain": [
       "3×3 Array{Float64,2}:\n",
       " 3.0  3.0  2.0\n",
       " 1.0  1.0  1.0\n",
       " 1.0  1.0  2.0"
      ]
     },
     "execution_count": 28,
     "metadata": {},
     "output_type": "execute_result"
    }
   ],
   "source": [
    "deltas"
   ]
  },
  {
   "cell_type": "code",
   "execution_count": 29,
   "metadata": {},
   "outputs": [
    {
     "data": {
      "text/plain": [
       "3-element Array{Float64,1}:\n",
       " 4.0\n",
       " 3.0\n",
       " 2.0"
      ]
     },
     "execution_count": 29,
     "metadata": {},
     "output_type": "execute_result"
    }
   ],
   "source": [
    "value.(d)"
   ]
  },
  {
   "cell_type": "code",
   "execution_count": 30,
   "metadata": {},
   "outputs": [
    {
     "data": {
      "text/plain": [
       "3-element Array{Float64,1}:\n",
       " 1.0\n",
       " 2.0\n",
       " 1.0"
      ]
     },
     "execution_count": 30,
     "metadata": {},
     "output_type": "execute_result"
    }
   ],
   "source": [
    "value.(t)"
   ]
  },
  {
   "cell_type": "code",
   "execution_count": 31,
   "metadata": {},
   "outputs": [
    {
     "data": {
      "text/plain": [
       "0.0"
      ]
     },
     "execution_count": 31,
     "metadata": {},
     "output_type": "execute_result"
    }
   ],
   "source": [
    "value.(sum(e[t1] for t1 in 1:T)/T)"
   ]
  },
  {
   "cell_type": "code",
   "execution_count": 32,
   "metadata": {},
   "outputs": [
    {
     "data": {
      "text/plain": [
       "3-element Array{Float64,1}:\n",
       " 8.999999999999998\n",
       " 9.0              \n",
       " 2.0              "
      ]
     },
     "execution_count": 32,
     "metadata": {},
     "output_type": "execute_result"
    }
   ],
   "source": [
    "value.(q)"
   ]
  },
  {
   "cell_type": "code",
   "execution_count": 33,
   "metadata": {},
   "outputs": [
    {
     "data": {
      "text/plain": [
       "9.666666666666666"
      ]
     },
     "execution_count": 33,
     "metadata": {},
     "output_type": "execute_result"
    }
   ],
   "source": [
    "value.(mean_risk)"
   ]
  },
  {
   "cell_type": "code",
   "execution_count": null,
   "metadata": {},
   "outputs": [],
   "source": []
  },
  {
   "cell_type": "code",
   "execution_count": null,
   "metadata": {},
   "outputs": [],
   "source": []
  }
 ],
 "metadata": {
  "kernelspec": {
   "display_name": "Julia 1.1.1",
   "language": "julia",
   "name": "julia-1.1"
  },
  "language_info": {
   "file_extension": ".jl",
   "mimetype": "application/julia",
   "name": "julia",
   "version": "1.1.1"
  }
 },
 "nbformat": 4,
 "nbformat_minor": 2
}
